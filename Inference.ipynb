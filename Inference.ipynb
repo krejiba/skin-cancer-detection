{
 "cells": [
  {
   "cell_type": "code",
   "execution_count": null,
   "metadata": {
    "id": "9qlFu1Y_CHTi"
   },
   "outputs": [],
   "source": [
    "# # Copy dataset\n",
    "# from google.colab import drive\n",
    "# drive.mount('/content/drive')\n",
    "# !mkdir /content/data\n",
    "# !cp -R \"/content/drive/MyDrive/Colab Notebooks/skin-cancer/data/test\" /content/data"
   ]
  },
  {
   "cell_type": "code",
   "execution_count": null,
   "metadata": {
    "id": "rZfpRllhA8NA"
   },
   "outputs": [],
   "source": [
    "# Load packages\n",
    "import numpy as np\n",
    "import pandas as pd\n",
    "import matplotlib.pyplot as plt\n",
    "%matplotlib inline\n",
    "\n",
    "from torchvision.datasets import ImageFolder\n",
    "from torchvision.transforms import Compose, Resize, CenterCrop, ToTensor, Normalize\n",
    "from torch.utils.data import DataLoader\n",
    "\n",
    "import torch\n",
    "\n",
    "from sklearn.metrics import roc_curve, auc"
   ]
  },
  {
   "cell_type": "code",
   "execution_count": null,
   "metadata": {
    "id": "52sQRH08lk8t"
   },
   "outputs": [],
   "source": [
    "import warnings\n",
    "warnings.filterwarnings(\"ignore\")"
   ]
  },
  {
   "cell_type": "markdown",
   "metadata": {
    "id": "7GGaB5JbA8ND"
   },
   "source": [
    "# Inference"
   ]
  },
  {
   "cell_type": "code",
   "execution_count": null,
   "metadata": {
    "id": "rl2MCXoTA8NE"
   },
   "outputs": [],
   "source": [
    "classes = ['melanoma', 'nevus', 'seborrheic_keratosis']\n",
    "n_classes = len(classes)"
   ]
  },
  {
   "cell_type": "code",
   "execution_count": null,
   "metadata": {
    "id": "VJBArzChGz0q"
   },
   "outputs": [],
   "source": [
    "# Dataset statistics\n",
    "\n",
    "mean = [0.7116625905036926, 0.584557056427002, 0.5350210666656494]\n",
    "std = [0.14735904335975647, 0.16540414094924927, 0.18036234378814697]"
   ]
  },
  {
   "cell_type": "code",
   "execution_count": null,
   "metadata": {
    "id": "zgcaynL8A8NE"
   },
   "outputs": [],
   "source": [
    "# Load the data\n",
    "\n",
    "transform = Compose([Resize(224), CenterCrop(224), ToTensor(),  # Preprocess the images and convert them to tensors\n",
    "                     Normalize(mean=mean, std=std)  # Normalization\n",
    "                     ])\n",
    "test_data = ImageFolder('data/test', transform=transform)"
   ]
  },
  {
   "cell_type": "code",
   "execution_count": null,
   "metadata": {
    "id": "0k7doxLbA8NF"
   },
   "outputs": [],
   "source": [
    "# Use DataLoader to iterate over the dataset using batches\n",
    "\n",
    "num_workers = 0\n",
    "batch_size = 32\n",
    "\n",
    "test_loader = DataLoader(test_data, batch_size=batch_size, num_workers=num_workers)"
   ]
  },
  {
   "cell_type": "code",
   "execution_count": null,
   "metadata": {
    "colab": {
     "base_uri": "https://localhost:8080/"
    },
    "id": "j8myG_aeA8NG",
    "outputId": "de837b0c-110b-4a16-f728-27132ebc0546"
   },
   "outputs": [
    {
     "data": {
      "text/plain": [
       "VGG(\n",
       "  (features): Sequential(\n",
       "    (0): Conv2d(3, 64, kernel_size=(3, 3), stride=(1, 1), padding=(1, 1))\n",
       "    (1): ReLU(inplace=True)\n",
       "    (2): Conv2d(64, 64, kernel_size=(3, 3), stride=(1, 1), padding=(1, 1))\n",
       "    (3): ReLU(inplace=True)\n",
       "    (4): MaxPool2d(kernel_size=2, stride=2, padding=0, dilation=1, ceil_mode=False)\n",
       "    (5): Conv2d(64, 128, kernel_size=(3, 3), stride=(1, 1), padding=(1, 1))\n",
       "    (6): ReLU(inplace=True)\n",
       "    (7): Conv2d(128, 128, kernel_size=(3, 3), stride=(1, 1), padding=(1, 1))\n",
       "    (8): ReLU(inplace=True)\n",
       "    (9): MaxPool2d(kernel_size=2, stride=2, padding=0, dilation=1, ceil_mode=False)\n",
       "    (10): Conv2d(128, 256, kernel_size=(3, 3), stride=(1, 1), padding=(1, 1))\n",
       "    (11): ReLU(inplace=True)\n",
       "    (12): Conv2d(256, 256, kernel_size=(3, 3), stride=(1, 1), padding=(1, 1))\n",
       "    (13): ReLU(inplace=True)\n",
       "    (14): Conv2d(256, 256, kernel_size=(3, 3), stride=(1, 1), padding=(1, 1))\n",
       "    (15): ReLU(inplace=True)\n",
       "    (16): MaxPool2d(kernel_size=2, stride=2, padding=0, dilation=1, ceil_mode=False)\n",
       "    (17): Conv2d(256, 512, kernel_size=(3, 3), stride=(1, 1), padding=(1, 1))\n",
       "    (18): ReLU(inplace=True)\n",
       "    (19): Conv2d(512, 512, kernel_size=(3, 3), stride=(1, 1), padding=(1, 1))\n",
       "    (20): ReLU(inplace=True)\n",
       "    (21): Conv2d(512, 512, kernel_size=(3, 3), stride=(1, 1), padding=(1, 1))\n",
       "    (22): ReLU(inplace=True)\n",
       "    (23): MaxPool2d(kernel_size=2, stride=2, padding=0, dilation=1, ceil_mode=False)\n",
       "    (24): Conv2d(512, 512, kernel_size=(3, 3), stride=(1, 1), padding=(1, 1))\n",
       "    (25): ReLU(inplace=True)\n",
       "    (26): Conv2d(512, 512, kernel_size=(3, 3), stride=(1, 1), padding=(1, 1))\n",
       "    (27): ReLU(inplace=True)\n",
       "    (28): Conv2d(512, 512, kernel_size=(3, 3), stride=(1, 1), padding=(1, 1))\n",
       "    (29): ReLU(inplace=True)\n",
       "    (30): MaxPool2d(kernel_size=2, stride=2, padding=0, dilation=1, ceil_mode=False)\n",
       "  )\n",
       "  (avgpool): AdaptiveAvgPool2d(output_size=(7, 7))\n",
       "  (classifier): Sequential(\n",
       "    (0): Linear(in_features=25088, out_features=4096, bias=True)\n",
       "    (1): ReLU(inplace=True)\n",
       "    (2): Dropout(p=0.5, inplace=False)\n",
       "    (3): Linear(in_features=4096, out_features=4096, bias=True)\n",
       "    (4): ReLU(inplace=True)\n",
       "    (5): Dropout(p=0.5, inplace=False)\n",
       "    (6): Linear(in_features=4096, out_features=3, bias=True)\n",
       "  )\n",
       ")"
      ]
     },
     "execution_count": 8,
     "metadata": {},
     "output_type": "execute_result"
    }
   ],
   "source": [
    "# Load trained model\n",
    "\n",
    "model = torch.load('out/model.pth', map_location=torch.device('cpu'))\n",
    "model.eval()"
   ]
  },
  {
   "cell_type": "code",
   "execution_count": null,
   "metadata": {
    "colab": {
     "base_uri": "https://localhost:8080/",
     "height": 202
    },
    "id": "AQt2KqmiL9av",
    "outputId": "b29df673-39e7-4144-84b4-b2ae37207d2d",
    "scrolled": true
   },
   "outputs": [
    {
     "data": {
      "text/html": [
       "<div>\n",
       "<style scoped>\n",
       "    .dataframe tbody tr th:only-of-type {\n",
       "        vertical-align: middle;\n",
       "    }\n",
       "\n",
       "    .dataframe tbody tr th {\n",
       "        vertical-align: top;\n",
       "    }\n",
       "\n",
       "    .dataframe thead th {\n",
       "        text-align: right;\n",
       "    }\n",
       "</style>\n",
       "<table border=\"1\" class=\"dataframe\">\n",
       "  <thead>\n",
       "    <tr style=\"text-align: right;\">\n",
       "      <th></th>\n",
       "      <th>image_id</th>\n",
       "      <th>melanoma</th>\n",
       "      <th>seborrheic_keratosis</th>\n",
       "    </tr>\n",
       "  </thead>\n",
       "  <tbody>\n",
       "    <tr>\n",
       "      <th>0</th>\n",
       "      <td>ISIC_0012086</td>\n",
       "      <td>0.0</td>\n",
       "      <td>1.0</td>\n",
       "    </tr>\n",
       "    <tr>\n",
       "      <th>1</th>\n",
       "      <td>ISIC_0012092</td>\n",
       "      <td>0.0</td>\n",
       "      <td>0.0</td>\n",
       "    </tr>\n",
       "    <tr>\n",
       "      <th>2</th>\n",
       "      <td>ISIC_0012095</td>\n",
       "      <td>0.0</td>\n",
       "      <td>0.0</td>\n",
       "    </tr>\n",
       "    <tr>\n",
       "      <th>3</th>\n",
       "      <td>ISIC_0012134</td>\n",
       "      <td>0.0</td>\n",
       "      <td>1.0</td>\n",
       "    </tr>\n",
       "    <tr>\n",
       "      <th>4</th>\n",
       "      <td>ISIC_0012136</td>\n",
       "      <td>0.0</td>\n",
       "      <td>1.0</td>\n",
       "    </tr>\n",
       "  </tbody>\n",
       "</table>\n",
       "</div>"
      ],
      "text/plain": [
       "       image_id  melanoma  seborrheic_keratosis\n",
       "0  ISIC_0012086       0.0                   1.0\n",
       "1  ISIC_0012092       0.0                   0.0\n",
       "2  ISIC_0012095       0.0                   0.0\n",
       "3  ISIC_0012134       0.0                   1.0\n",
       "4  ISIC_0012136       0.0                   1.0"
      ]
     },
     "execution_count": 9,
     "metadata": {},
     "output_type": "execute_result"
    }
   ],
   "source": [
    "# Loading the labels\n",
    "\n",
    "ground_truth = pd.read_csv('https://isic-challenge-data.s3.amazonaws.com/2017/ISIC-2017_Test_v2_Part3_GroundTruth.csv')\n",
    "ground_truth.head()"
   ]
  },
  {
   "cell_type": "code",
   "execution_count": null,
   "metadata": {
    "id": "S_npbbDAB2xB"
   },
   "outputs": [],
   "source": [
    "ground_truth['nevus'] = 1 - (ground_truth['melanoma']+ground_truth['seborrheic_keratosis'])"
   ]
  },
  {
   "cell_type": "code",
   "execution_count": null,
   "metadata": {
    "id": "EIhXbaG1Cdn5"
   },
   "outputs": [],
   "source": [
    "ground_truth.sort_values(by=['melanoma', 'nevus'], ascending=False, inplace=True)"
   ]
  },
  {
   "cell_type": "code",
   "execution_count": null,
   "metadata": {
    "id": "Pr_icto3DhtS"
   },
   "outputs": [],
   "source": [
    "filenames = []\n",
    "for i in range(len(test_data)):\n",
    "    filename = test_data.imgs[i][0]\n",
    "    filenames.append(filename.split('/')[-1][:-4])\n",
    "\n",
    "assert filenames==list(ground_truth['image_id'])"
   ]
  },
  {
   "cell_type": "code",
   "execution_count": null,
   "metadata": {
    "id": "CnFwjFVAFRjv"
   },
   "outputs": [],
   "source": [
    "# Get predictions for each image in the test set\n",
    "\n",
    "list_of_predictons = []\n",
    "for data, target in test_loader:\n",
    "    with torch.no_grad():\n",
    "        output = model(data)\n",
    "        prob = torch.softmax(output, dim=1).numpy()\n",
    "    list_of_predictons.append(prob)\n",
    "final_prediciton = np.vstack(list_of_predictons)\n",
    "m = final_prediciton[:,0]\n",
    "s = final_prediciton[:,2]"
   ]
  },
  {
   "cell_type": "code",
   "execution_count": null,
   "metadata": {
    "id": "XFOafMF3EP-3"
   },
   "outputs": [],
   "source": [
    "# Save results in a dataframe\n",
    "\n",
    "results = pd.DataFrame({'image_id': filenames, 'melanoma': m, 'seborrheic_keratosis': s})"
   ]
  },
  {
   "cell_type": "markdown",
   "metadata": {
    "id": "fvYvU4z3F1DV"
   },
   "source": [
    "## Malignant or Benign"
   ]
  },
  {
   "cell_type": "markdown",
   "metadata": {
    "id": "mZyTZjJ8495Z"
   },
   "source": [
    "Melanomas are malignant lesions, while the other two types are benign. A binary classification task would be to identify whether a lesion is benign or malignant."
   ]
  },
  {
   "cell_type": "code",
   "execution_count": null,
   "metadata": {
    "id": "yhG015XBIpBj"
   },
   "outputs": [],
   "source": [
    "y_true, y_score = ground_truth['melanoma'].to_numpy(), results['melanoma'].to_numpy()"
   ]
  },
  {
   "cell_type": "code",
   "execution_count": null,
   "metadata": {
    "id": "kLZ9BVASImI-"
   },
   "outputs": [],
   "source": [
    "fpr, tpr, thres = roc_curve(y_true, y_score)"
   ]
  },
  {
   "cell_type": "code",
   "execution_count": null,
   "metadata": {
    "colab": {
     "base_uri": "https://localhost:8080/",
     "height": 295
    },
    "id": "I6D9BEcGKOBF",
    "outputId": "22a98001-e4d4-41ca-a9b5-796db57f133a"
   },
   "outputs": [
    {
     "data": {
      "image/png": "[encoded data removed]",
      "text/plain": [
       "<Figure size 432x288 with 1 Axes>"
      ]
     },
     "metadata": {
      "needs_background": "light"
     },
     "output_type": "display_data"
    }
   ],
   "source": [
    "# Plot ROC curve with TPR and FPR as axes\n",
    "plt.plot(fpr, tpr)\n",
    "plt.plot([0, 1], [0, 1], 'k--')\n",
    "plt.xlim([0.0, 1.0])\n",
    "plt.ylim([0.0, 1.0])\n",
    "plt.xlabel('False Positive Rate')\n",
    "plt.ylabel('True Positive Rate')\n",
    "plt.title('ROC curve for Melanoma Classification')\n",
    "plt.text(.7, .1, 'AUC = {:.4f}'.format(auc(fpr, tpr)))\n",
    "plt.show()"
   ]
  },
  {
   "cell_type": "code",
   "execution_count": null,
   "metadata": {
    "colab": {
     "base_uri": "https://localhost:8080/",
     "height": 295
    },
    "id": "Z9ykMr86SEa8",
    "outputId": "61a6d159-0c27-4996-bef9-db755306618b"
   },
   "outputs": [
    {
     "data": {
      "image/png": "[encoded data removed]",
      "text/plain": [
       "<Figure size 432x288 with 1 Axes>"
      ]
     },
     "metadata": {
      "needs_background": "light"
     },
     "output_type": "display_data"
    }
   ],
   "source": [
    "# Plot ROC curve with Sensitivity and Specificty as axes\n",
    "plt.plot(1-fpr, tpr)\n",
    "plt.plot([1, 0], [0, 1], 'k--')\n",
    "plt.xlim([0.0, 1.0])\n",
    "plt.ylim([0.0, 1.0])\n",
    "plt.xlabel('Specificity')\n",
    "plt.ylabel('Sensitivity')\n",
    "plt.title('ROC curve for Melanoma Classification')\n",
    "plt.text(.1, .1, 'AUC = {:.4f}'.format(auc(fpr, tpr)))\n",
    "plt.show()"
   ]
  },
  {
   "cell_type": "code",
   "execution_count": null,
   "metadata": {
    "colab": {
     "base_uri": "https://localhost:8080/"
    },
    "id": "vNxGh87bU0KT",
    "outputId": "0e19898c-366e-4db6-f5c6-2c8535551c31"
   },
   "outputs": [
    {
     "name": "stdout",
     "output_type": "stream",
     "text": [
      "For a decision threshold of 0.5:\n",
      "    Sensitivity: 44.44%\n",
      "    Specificity: 94.20%\n"
     ]
    }
   ],
   "source": [
    "threshold = 0.5\n",
    "tol = 0.003\n",
    "print('For a decision threshold of {}:'.format(threshold))\n",
    "print('    Sensitivity: {:.2f}%'.format(tpr[np.abs(thres - threshold)<tol].item()*100))\n",
    "print('    Specificity: {:.2f}%'.format((1 - fpr[np.abs(thres - threshold)<tol].item())*100))"
   ]
  },
  {
   "cell_type": "code",
   "execution_count": null,
   "metadata": {
    "colab": {
     "base_uri": "https://localhost:8080/"
    },
    "id": "vncbqQnWcphY",
    "outputId": "8d533395-be11-4f1f-d0e7-35fbe631c271"
   },
   "outputs": [
    {
     "name": "stdout",
     "output_type": "stream",
     "text": [
      "For a decision threshold of 0.1:\n",
      "    Sensitivity: 64.10%\n",
      "    Specificity: 83.44%\n"
     ]
    }
   ],
   "source": [
    "threshold = 0.1\n",
    "tol = 0.003\n",
    "print('For a decision threshold of {}:'.format(threshold))\n",
    "print('    Sensitivity: {:.2f}%'.format(tpr[np.abs(thres - threshold)<tol].item()*100))\n",
    "print('    Specificity: {:.2f}%'.format((1 - fpr[np.abs(thres - threshold)<tol].item())*100))"
   ]
  },
  {
   "cell_type": "markdown",
   "metadata": {
    "id": "JTdNRbfKGSNz"
   },
   "source": [
    "## Melanocytic or Keratinocytic"
   ]
  },
  {
   "cell_type": "markdown",
   "metadata": {
    "id": "0HSkZSVQ5iy_"
   },
   "source": [
    "We can also classify these lesions according to their cellular origin: melanocytic (melanoma, nevus) or keratinocytic (seborrheic_keratosis)."
   ]
  },
  {
   "cell_type": "code",
   "execution_count": null,
   "metadata": {
    "id": "gVivTv8EGSbS"
   },
   "outputs": [],
   "source": [
    "y_true, y_score = ground_truth['seborrheic_keratosis'].to_numpy(), results['seborrheic_keratosis'].to_numpy()"
   ]
  },
  {
   "cell_type": "code",
   "execution_count": null,
   "metadata": {
    "id": "Y6JnfTN6GSh4"
   },
   "outputs": [],
   "source": [
    "fpr, tpr, _ = roc_curve(y_true, y_score)"
   ]
  },
  {
   "cell_type": "code",
   "execution_count": null,
   "metadata": {
    "colab": {
     "base_uri": "https://localhost:8080/",
     "height": 295
    },
    "id": "KEro7DipGcMZ",
    "outputId": "a2a3100d-bc7f-49f5-88bc-02dfbbc46694"
   },
   "outputs": [
    {
     "data": {
      "image/png": "[encoded data removed]",
      "text/plain": [
       "<Figure size 432x288 with 1 Axes>"
      ]
     },
     "metadata": {
      "needs_background": "light"
     },
     "output_type": "display_data"
    }
   ],
   "source": [
    "plt.plot(fpr, tpr)\n",
    "plt.plot([0, 1], [0, 1], 'k--')\n",
    "plt.xlim([0.0, 1.0])\n",
    "plt.ylim([0.0, 1.0])\n",
    "plt.xlabel('False Positive Rate')\n",
    "plt.ylabel('True Positive Rate')\n",
    "plt.title('ROC curve for Cellular Origin Determination')\n",
    "plt.text(.7, .1, 'AUC = {:.4f}'.format(auc(fpr, tpr)))\n",
    "plt.show()"
   ]
  }
 ],
 "metadata": {
  "colab": {
   "collapsed_sections": [],
   "name": "Inference.ipynb",
   "provenance": []
  },
  "kernelspec": {
   "display_name": "Python 3",
   "language": "python",
   "name": "python3"
  },
  "language_info": {
   "codemirror_mode": {
    "name": "ipython",
    "version": 3
   },
   "file_extension": ".py",
   "mimetype": "text/x-python",
   "name": "python",
   "nbconvert_exporter": "python",
   "pygments_lexer": "ipython3",
   "version": "3.7.4"
  }
 },
 "nbformat": 4,
 "nbformat_minor": 1
}
